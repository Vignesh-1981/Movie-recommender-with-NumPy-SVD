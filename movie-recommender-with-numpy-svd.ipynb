{
 "cells": [
  {
   "cell_type": "code",
   "execution_count": 1,
   "id": "f2751446",
   "metadata": {
    "_cell_guid": "b1076dfc-b9ad-4769-8c92-a6c4dae69d19",
    "_uuid": "8f2839f25d086af736a60e9eeb907d3b93b6e0e5",
    "execution": {
     "iopub.execute_input": "2025-07-04T04:02:43.269041Z",
     "iopub.status.busy": "2025-07-04T04:02:43.268826Z",
     "iopub.status.idle": "2025-07-04T04:02:44.767032Z",
     "shell.execute_reply": "2025-07-04T04:02:44.765932Z"
    },
    "papermill": {
     "duration": 1.503002,
     "end_time": "2025-07-04T04:02:44.768974",
     "exception": false,
     "start_time": "2025-07-04T04:02:43.265972",
     "status": "completed"
    },
    "tags": []
   },
   "outputs": [],
   "source": [
    "# This Python 3 environment comes with many helpful analytics libraries installed\n",
    "# It is defined by the kaggle/python Docker image: https://github.com/kaggle/docker-python\n",
    "# For example, here's several helpful packages to load\n",
    "\n",
    "import numpy as np # linear algebra\n",
    "import pandas as pd # data processing, CSV file I/O (e.g. pd.read_csv)\n",
    "\n",
    "# Input data files are available in the read-only \"../input/\" directory\n",
    "# For example, running this (by clicking run or pressing Shift+Enter) will list all files under the input directory\n",
    "\n",
    "import os\n",
    "for dirname, _, filenames in os.walk('/kaggle/input'):\n",
    "    for filename in filenames:\n",
    "        print(os.path.join(dirname, filename))\n",
    "\n",
    "# You can write up to 20GB to the current directory (/kaggle/working/) that gets preserved as output when you create a version using \"Save & Run All\" \n",
    "# You can also write temporary files to /kaggle/temp/, but they won't be saved outside of the current session"
   ]
  },
  {
   "cell_type": "code",
   "execution_count": 2,
   "id": "2ec79d13",
   "metadata": {
    "execution": {
     "iopub.execute_input": "2025-07-04T04:02:44.774153Z",
     "iopub.status.busy": "2025-07-04T04:02:44.773859Z",
     "iopub.status.idle": "2025-07-04T04:02:48.631244Z",
     "shell.execute_reply": "2025-07-04T04:02:48.630471Z"
    },
    "papermill": {
     "duration": 3.861399,
     "end_time": "2025-07-04T04:02:48.632818",
     "exception": false,
     "start_time": "2025-07-04T04:02:44.771419",
     "status": "completed"
    },
    "tags": []
   },
   "outputs": [
    {
     "name": "stdout",
     "output_type": "stream",
     "text": [
      "Requirement already satisfied: scikit-surprise in /usr/local/lib/python3.11/dist-packages (1.1.4)\r\n",
      "Requirement already satisfied: joblib>=1.2.0 in /usr/local/lib/python3.11/dist-packages (from scikit-surprise) (1.5.0)\r\n",
      "Requirement already satisfied: numpy>=1.19.5 in /usr/local/lib/python3.11/dist-packages (from scikit-surprise) (1.26.4)\r\n",
      "Requirement already satisfied: scipy>=1.6.0 in /usr/local/lib/python3.11/dist-packages (from scikit-surprise) (1.15.2)\r\n",
      "Requirement already satisfied: mkl_fft in /usr/local/lib/python3.11/dist-packages (from numpy>=1.19.5->scikit-surprise) (1.3.8)\r\n",
      "Requirement already satisfied: mkl_random in /usr/local/lib/python3.11/dist-packages (from numpy>=1.19.5->scikit-surprise) (1.2.4)\r\n",
      "Requirement already satisfied: mkl_umath in /usr/local/lib/python3.11/dist-packages (from numpy>=1.19.5->scikit-surprise) (0.1.1)\r\n",
      "Requirement already satisfied: mkl in /usr/local/lib/python3.11/dist-packages (from numpy>=1.19.5->scikit-surprise) (2025.1.0)\r\n",
      "Requirement already satisfied: tbb4py in /usr/local/lib/python3.11/dist-packages (from numpy>=1.19.5->scikit-surprise) (2022.1.0)\r\n",
      "Requirement already satisfied: mkl-service in /usr/local/lib/python3.11/dist-packages (from numpy>=1.19.5->scikit-surprise) (2.4.1)\r\n",
      "Requirement already satisfied: intel-openmp<2026,>=2024 in /usr/local/lib/python3.11/dist-packages (from mkl->numpy>=1.19.5->scikit-surprise) (2024.2.0)\r\n",
      "Requirement already satisfied: tbb==2022.* in /usr/local/lib/python3.11/dist-packages (from mkl->numpy>=1.19.5->scikit-surprise) (2022.1.0)\r\n",
      "Requirement already satisfied: tcmlib==1.* in /usr/local/lib/python3.11/dist-packages (from tbb==2022.*->mkl->numpy>=1.19.5->scikit-surprise) (1.3.0)\r\n",
      "Requirement already satisfied: intel-cmplr-lib-rt in /usr/local/lib/python3.11/dist-packages (from mkl_umath->numpy>=1.19.5->scikit-surprise) (2024.2.0)\r\n",
      "Requirement already satisfied: intel-cmplr-lib-ur==2024.2.0 in /usr/local/lib/python3.11/dist-packages (from intel-openmp<2026,>=2024->mkl->numpy>=1.19.5->scikit-surprise) (2024.2.0)\r\n"
     ]
    }
   ],
   "source": [
    "\n",
    "!pip install scikit-surprise --no-binary :all:"
   ]
  },
  {
   "cell_type": "code",
   "execution_count": 3,
   "id": "9c800e15",
   "metadata": {
    "execution": {
     "iopub.execute_input": "2025-07-04T04:02:48.637037Z",
     "iopub.status.busy": "2025-07-04T04:02:48.636823Z",
     "iopub.status.idle": "2025-07-04T04:02:49.634784Z",
     "shell.execute_reply": "2025-07-04T04:02:49.634046Z"
    },
    "papermill": {
     "duration": 1.001469,
     "end_time": "2025-07-04T04:02:49.636043",
     "exception": false,
     "start_time": "2025-07-04T04:02:48.634574",
     "status": "completed"
    },
    "tags": []
   },
   "outputs": [
    {
     "name": "stdout",
     "output_type": "stream",
     "text": [
      "--2025-07-04 04:02:48--  https://files.grouplens.org/datasets/movielens/ml-latest-small.zip\r\n",
      "Resolving files.grouplens.org (files.grouplens.org)... 128.101.65.152\r\n",
      "Connecting to files.grouplens.org (files.grouplens.org)|128.101.65.152|:443... connected.\r\n",
      "HTTP request sent, awaiting response... 200 OK\r\n",
      "Length: 978202 (955K) [application/zip]\r\n",
      "Saving to: ‘ml-latest-small.zip’\r\n",
      "\r\n",
      "ml-latest-small.zip 100%[===================>] 955.28K  3.34MB/s    in 0.3s    \r\n",
      "\r\n",
      "2025-07-04 04:02:49 (3.34 MB/s) - ‘ml-latest-small.zip’ saved [978202/978202]\r\n",
      "\r\n",
      "Archive:  ml-latest-small.zip\r\n",
      "   creating: ml-latest-small/\r\n",
      "  inflating: ml-latest-small/links.csv  \r\n",
      "  inflating: ml-latest-small/tags.csv  \r\n",
      "  inflating: ml-latest-small/ratings.csv  \r\n",
      "  inflating: ml-latest-small/README.txt  \r\n",
      "  inflating: ml-latest-small/movies.csv  \r\n"
     ]
    }
   ],
   "source": [
    "!wget https://files.grouplens.org/datasets/movielens/ml-latest-small.zip\n",
    "!unzip ml-latest-small.zip"
   ]
  },
  {
   "cell_type": "code",
   "execution_count": 4,
   "id": "2a82adda",
   "metadata": {
    "execution": {
     "iopub.execute_input": "2025-07-04T04:02:49.641625Z",
     "iopub.status.busy": "2025-07-04T04:02:49.640959Z",
     "iopub.status.idle": "2025-07-04T04:02:53.283677Z",
     "shell.execute_reply": "2025-07-04T04:02:53.282783Z"
    },
    "papermill": {
     "duration": 3.647115,
     "end_time": "2025-07-04T04:02:53.285194",
     "exception": false,
     "start_time": "2025-07-04T04:02:49.638079",
     "status": "completed"
    },
    "tags": []
   },
   "outputs": [
    {
     "name": "stdout",
     "output_type": "stream",
     "text": [
      "\n",
      "✅ RMSE: 2.3662\n",
      "✅ MAE: 1.9820\n",
      "\n",
      "🎬 Top 5 Recommendations for User 1:\n",
      "Terminator 2: Judgment Day (1991) (Predicted Rating: 3.93)\n",
      "Aliens (1986) (Predicted Rating: 3.73)\n",
      "Sixth Sense, The (1999) (Predicted Rating: 3.33)\n",
      "Breakfast Club, The (1985) (Predicted Rating: 3.32)\n",
      "Die Hard (1988) (Predicted Rating: 3.16)\n",
      "\n",
      "🎬 Top 5 Recommendations for User 2:\n",
      "Fight Club (1999) (Predicted Rating: 1.29)\n",
      "Pulp Fiction (1994) (Predicted Rating: 0.95)\n",
      "Forrest Gump (1994) (Predicted Rating: 0.94)\n",
      "American History X (1998) (Predicted Rating: 0.88)\n",
      "Matrix, The (1999) (Predicted Rating: 0.84)\n",
      "\n",
      "🎬 Top 5 Recommendations for User 3:\n",
      "Aliens (1986) (Predicted Rating: 0.23)\n",
      "Alien (1979) (Predicted Rating: 0.21)\n",
      "Lethal Weapon (1987) (Predicted Rating: 0.20)\n",
      "Saving Private Ryan (1998) (Predicted Rating: 0.19)\n",
      "RoboCop (1987) (Predicted Rating: 0.19)\n"
     ]
    }
   ],
   "source": [
    "#📘 Movie Recommender with NumPy SVD 🍿🎦🎥🎞️👇\n",
    "\n",
    "\n",
    "\n",
    "\n",
    "import pandas as pd\n",
    "import numpy as np\n",
    "from sklearn.metrics import mean_squared_error, mean_absolute_error\n",
    "\n",
    "\n",
    "\n",
    "\n",
    "# 🔹 Step 1: Load Ratings and Movies\n",
    "ratings = pd.read_csv(\"ml-latest-small/ratings.csv\")\n",
    "movies = pd.read_csv(\"ml-latest-small/movies.csv\")\n",
    "\n",
    "\n",
    "\n",
    "\n",
    "# 🔹 Step 2: Create User-Item Matrix\n",
    "user_item_matrix = ratings.pivot(index='userId', columns='movieId', values='rating')\n",
    "user_item_matrix.fillna(0, inplace=True)  # Fill missing ratings with 0\n",
    "\n",
    "\n",
    "\n",
    "\n",
    "# 🔹 Step 3: Apply SVD\n",
    "U, sigma, Vt = np.linalg.svd(user_item_matrix, full_matrices=False)\n",
    "sigma = np.diag(sigma)\n",
    "\n",
    "\n",
    "\n",
    "\n",
    "# 🔹 Step 4: Reconstruct Ratings\n",
    "k = 20  # number of latent features\n",
    "reconstructed = np.dot(np.dot(U[:, :k], sigma[:k, :k]), Vt[:k, :])\n",
    "\n",
    "\n",
    "\n",
    "\n",
    "\n",
    "\n",
    "# 🔹 Step 5: Recommend Top N Movies for a User\n",
    "def recommend_movies(user_id, original_matrix, predicted_matrix, movie_df, n=5):\n",
    "    user_index = user_id - 1  # because userId starts at 1\n",
    "    predicted_ratings = predicted_matrix[user_index]\n",
    "    user_seen = original_matrix.iloc[user_index] > 0\n",
    "    predicted_ratings[user_seen.values] = -1  # exclude seen movies\n",
    "\n",
    "    top_n_indices = np.argsort(predicted_ratings)[::-1][:n]\n",
    "    movie_ids = original_matrix.columns[top_n_indices]\n",
    "\n",
    "    recommendations = movie_df[movie_df['movieId'].isin(movie_ids)]\n",
    "    print(f\"\\n🎬 Top {n} Recommendations for User {user_id}:\")\n",
    "    for mid in movie_ids:\n",
    "        title = movie_df.loc[movie_df.movieId == mid, 'title'].values[0]\n",
    "        score = predicted_ratings[original_matrix.columns.get_loc(mid)]\n",
    "        print(f\"{title} (Predicted Rating: {score:.2f})\")\n",
    "\n",
    "\n",
    "\n",
    "# 🔹 Step 6: Evaluate\n",
    "mask = user_item_matrix.values > 0\n",
    "rmse = np.sqrt(mean_squared_error(user_item_matrix.values[mask], reconstructed[mask]))\n",
    "mae = mean_absolute_error(user_item_matrix.values[mask], reconstructed[mask])\n",
    "\n",
    "print(f\"\\n✅ RMSE: {rmse:.4f}\")\n",
    "print(f\"✅ MAE: {mae:.4f}\")\n",
    "\n",
    "# 🔹 Step 7: Show Recommendations for Few Users\n",
    "recommend_movies(1, user_item_matrix, reconstructed, movies)\n",
    "recommend_movies(2, user_item_matrix, reconstructed, movies)\n",
    "recommend_movies(3, user_item_matrix, reconstructed, movies)"
   ]
  }
 ],
 "metadata": {
  "kaggle": {
   "accelerator": "none",
   "dataSources": [],
   "dockerImageVersionId": 31041,
   "isGpuEnabled": false,
   "isInternetEnabled": true,
   "language": "python",
   "sourceType": "notebook"
  },
  "kernelspec": {
   "display_name": "Python 3",
   "language": "python",
   "name": "python3"
  },
  "language_info": {
   "codemirror_mode": {
    "name": "ipython",
    "version": 3
   },
   "file_extension": ".py",
   "mimetype": "text/x-python",
   "name": "python",
   "nbconvert_exporter": "python",
   "pygments_lexer": "ipython3",
   "version": "3.11.11"
  },
  "papermill": {
   "default_parameters": {},
   "duration": 14.662684,
   "end_time": "2025-07-04T04:02:53.704817",
   "environment_variables": {},
   "exception": null,
   "input_path": "__notebook__.ipynb",
   "output_path": "__notebook__.ipynb",
   "parameters": {},
   "start_time": "2025-07-04T04:02:39.042133",
   "version": "2.6.0"
  }
 },
 "nbformat": 4,
 "nbformat_minor": 5
}
